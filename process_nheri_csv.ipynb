{
 "cells": [
  {
   "cell_type": "code",
   "execution_count": 1,
   "id": "f78f8787-1e70-423a-a596-375707c60aa6",
   "metadata": {},
   "outputs": [
    {
     "name": "stdout",
     "output_type": "stream",
     "text": [
      "   pressure                datetime\n",
      "0    1005.8 2024-09-25 07:58:38.000\n",
      "1    1005.6 2024-09-25 07:58:38.062\n",
      "2    1005.5 2024-09-25 07:58:38.125\n",
      "3    1005.7 2024-09-25 07:58:38.187\n",
      "4    1005.6 2024-09-25 07:58:38.250\n",
      "             datetime  pressure_filtered\n",
      "0 2024-09-25 07:54:00        1005.701536\n",
      "1 2024-09-25 08:00:00        1005.418852\n",
      "2 2024-09-25 08:06:00        1004.523270\n",
      "3 2024-09-25 08:12:00        1003.975216\n",
      "4 2024-09-25 08:18:00        1003.523582\n"
     ]
    }
   ],
   "source": [
    "import pandas as pd\n",
    "import matplotlib.pyplot as plt\n",
    "from scipy.signal import butter, filtfilt\n",
    "\n",
    "data_dir = 'F:/crs/proj/2025_NOPP_comparison/helene_water_level/DesignSafe/'\n",
    "# Data is recorded at 16 Hz, but time is only precise to 1 s\n",
    "fn = '2024-Sept-30_RAPID-WG01_Data.CSV' # removed first three records so it starts on even second\n",
    "\n",
    "def load_high_freq_data(csv_file):\n",
    "    # Load CSV file\n",
    "    df = pd.read_csv(csv_file)\n",
    "\n",
    "    # # Ensure columns exist\n",
    "    required_columns = {\"date\", \"time\", \"pressure\"}\n",
    "    if not required_columns.issubset(df.columns):\n",
    "        raise KeyError(f\"Missing required columns: {required_columns - set(df.columns)}\")\n",
    "\n",
    "    # Combine date and time columns into a single datetime column\n",
    "    df[\"datetime\"] = pd.to_datetime(df[\"date\"] + \" \" + df[\"time\"], format=\"mixed\")\n",
    "\n",
    "    # Generate sub-second timestamps (assuming 16 samples per second)\n",
    "    df[\"sample_index\"] = df.groupby(\"datetime\").cumcount()  # Count samples per second\n",
    "    df[\"milliseconds\"] = (df[\"sample_index\"] * (1000 / 16)).astype(int)  # Convert to milliseconds\n",
    "\n",
    "    # Create final datetime with microsecond precision\n",
    "    df[\"datetime\"] = df[\"datetime\"] + pd.to_timedelta(df[\"milliseconds\"], unit=\"ms\")\n",
    "\n",
    "    # Drop intermediate columns\n",
    "    df = df.drop(columns=[\"date\", \"time\", \"sample_index\", \"milliseconds\"])\n",
    "\n",
    "    return df\n",
    "\n",
    "\n",
    "def lowpass_and_resample(df, column='pressure', sample_rate=16, cutoff_freq=1/25, resample_interval='6min', order=4):\n",
    "    \"\"\"\n",
    "    Apply a Butterworth low-pass filter and resample the data to a lower frequency.\n",
    "    \n",
    "    Parameters:\n",
    "    - df: DataFrame with 'datetime' and pressure column\n",
    "    - column: the name of the column to filter\n",
    "    - sample_rate: original sampling rate in Hz\n",
    "    - cutoff_freq: low-pass filter cutoff frequency in Hz\n",
    "    - resample_interval: string like '6T' for 6-minute intervals\n",
    "    - order: filter order\n",
    "    \n",
    "    Returns:\n",
    "    - Resampled DataFrame with filtered pressure\n",
    "    \"\"\"\n",
    "    # Design Butterworth filter\n",
    "    nyquist = 0.5 * sample_rate\n",
    "    normal_cutoff = cutoff_freq / nyquist\n",
    "    b, a = butter(order, normal_cutoff, btype='low', analog=False)\n",
    "\n",
    "    # Apply filter\n",
    "    df['pressure_filtered'] = filtfilt(b, a, df[column])\n",
    "\n",
    "    # Resample to specified interval\n",
    "    df_resampled = (\n",
    "        df.set_index('datetime')['pressure_filtered']\n",
    "        .resample(resample_interval)\n",
    "        .mean()\n",
    "        .reset_index()\n",
    "    )\n",
    "\n",
    "    return df_resampled\n",
    "\n",
    "\n",
    "def smooth_and_resample(df, window_size=9600, resample_interval=\"10T\"):\n",
    "    \"\"\"\n",
    "    Smooths the pressure data using a rolling mean and resamples it to 10-minute intervals.\n",
    "    \n",
    "    Parameters:\n",
    "    - df: Pandas DataFrame with 'datetime' and 'pressure' columns.\n",
    "    - window_size: Number of samples for rolling mean (default: 9600 for 10 minutes at 16 Hz).\n",
    "    - resample_interval: Resampling frequency ('10T' for 10 minutes).\n",
    "    \n",
    "    Returns:\n",
    "    - Resampled DataFrame with smoothed pressure data.\n",
    "    \"\"\"\n",
    "    # Apply a rolling mean for smoothing\n",
    "    df[\"smoothed_pressure\"] = df[\"pressure\"].rolling(window=window_size, min_periods=1, center=True).mean()\n",
    "\n",
    "    # Resample to 10-minute intervals (taking mean)\n",
    "    df_resampled = df.set_index(\"datetime\").resample(resample_interval).mean().reset_index()\n",
    "\n",
    "    return df_resampled\n",
    "\n",
    "\n",
    "df = load_high_freq_data(data_dir+fn)\n",
    "\n",
    "# Display first few rows\n",
    "print(df.head())\n",
    "\n",
    "df_smooth_6min = lowpass_and_resample(\n",
    "    df,\n",
    "    column='pressure',\n",
    "    sample_rate=16,\n",
    "    cutoff_freq=1/25,\n",
    "    resample_interval='6min'\n",
    ")\n",
    "\n",
    "print(df_smooth_6min.head())"
   ]
  },
  {
   "cell_type": "code",
   "execution_count": 2,
   "id": "b0824fab-af7c-4a31-b995-2beee1e187e8",
   "metadata": {},
   "outputs": [
    {
     "name": "stdout",
     "output_type": "stream",
     "text": [
      "         Date Time (GMT)  Wind Speed (m/s)  Wind Dir (deg)  Wind Gust (m/s)  \\\n",
      "0  2024/09/25      00:00               2.0             338              3.2   \n",
      "1  2024/09/25      00:06               1.7             340              2.7   \n",
      "2  2024/09/25      00:12               1.7             346              2.5   \n",
      "3  2024/09/25      00:18               2.0             350              2.6   \n",
      "4  2024/09/25      00:24               1.6             347              2.6   \n",
      "\n",
      "   Air Temp (°C)  Baro (mb) Humidity (%) Visibility (km)            datetime  \n",
      "0           29.1     1011.3            -               - 2024-09-25 00:00:00  \n",
      "1           29.1     1011.3            -               - 2024-09-25 00:06:00  \n",
      "2           29.0     1011.3            -               - 2024-09-25 00:12:00  \n",
      "3           28.9     1011.4            -               - 2024-09-25 00:18:00  \n",
      "4           28.8     1011.4            -               - 2024-09-25 00:24:00  \n"
     ]
    }
   ],
   "source": [
    "# Load second CSV file\n",
    "met_file = 'CO-OPS_8727520_met.csv'  # Replace with your filename\n",
    "df_met = pd.read_csv(data_dir+met_file)\n",
    "\n",
    "# Parse datetime from \"Date\" and \"Time (GMT)\"\n",
    "df_met[\"datetime\"] = pd.to_datetime(df_met[\"Date\"] + \" \" + df_met[\"Time (GMT)\"])\n",
    "print(df_met.head())"
   ]
  },
  {
   "cell_type": "code",
   "execution_count": 5,
   "id": "aafc3c61-5bff-4eb8-91d3-658f21ea033e",
   "metadata": {},
   "outputs": [
    {
     "name": "stdout",
     "output_type": "stream",
     "text": [
      "                     pressure_filtered  Baro (mb)  pressure_corrected_dbar\n",
      "datetime                                                                  \n",
      "2024-09-25 07:54:00        1005.701536     1010.8                -0.050985\n",
      "2024-09-25 08:00:00        1005.418852     1010.7                -0.052811\n",
      "2024-09-25 08:06:00        1004.523270     1010.8                -0.062767\n",
      "2024-09-25 08:12:00        1003.975216     1010.7                -0.067248\n",
      "2024-09-25 08:18:00        1003.523582     1010.6                -0.070764\n"
     ]
    }
   ],
   "source": [
    "df_smooth_6min['datetime'] = pd.to_datetime(df_smooth_6min['datetime'])\n",
    "df_met['datetime'] = pd.to_datetime(df_met['datetime'])\n",
    "\n",
    "# Step 2: Merge the two dataframes on datetime\n",
    "df_merged = pd.merge(df_smooth_6min, df_met[['datetime', 'Baro (mb)']], on='datetime', how='inner')\n",
    "\n",
    "# Step 3: Subtract Baro (mb) from pressure_filtered and convert to decibars (1:1 conversion)\n",
    "df_merged['pressure_corrected_dbar'] = (df_merged['pressure_filtered'] - df_merged['Baro (mb)'])/100.\n",
    "\n",
    "# Step 4: Set datetime as the index\n",
    "df_result = df_merged.set_index('datetime')\n",
    "\n",
    "# Optional: display result\n",
    "print(df_result.head())"
   ]
  },
  {
   "cell_type": "code",
   "execution_count": 6,
   "id": "b53002c1-0d9b-45bc-99ab-d6d96dec1d3f",
   "metadata": {},
   "outputs": [
    {
     "data": {
      "text/plain": [
       "[<matplotlib.lines.Line2D at 0x1782b7ed1b0>]"
      ]
     },
     "execution_count": 6,
     "metadata": {},
     "output_type": "execute_result"
    },
    {
     "data": {
      "image/png": "[encoded data removed]",
      "text/plain": [
       "<Figure size 640x480 with 1 Axes>"
      ]
     },
     "metadata": {},
     "output_type": "display_data"
    }
   ],
   "source": [
    "df_result = df_result.reset_index()\n",
    "plt.plot( df_result['datetime'],df_result['pressure_corrected_dbar'])"
   ]
  }
 ],
 "metadata": {
  "kernelspec": {
   "display_name": "Python 3 (ipykernel)",
   "language": "python",
   "name": "python3"
  },
  "language_info": {
   "codemirror_mode": {
    "name": "ipython",
    "version": 3
   },
   "file_extension": ".py",
   "mimetype": "text/x-python",
   "name": "python",
   "nbconvert_exporter": "python",
   "pygments_lexer": "ipython3",
   "version": "3.10.16"
  }
 },
 "nbformat": 4,
 "nbformat_minor": 5
}
