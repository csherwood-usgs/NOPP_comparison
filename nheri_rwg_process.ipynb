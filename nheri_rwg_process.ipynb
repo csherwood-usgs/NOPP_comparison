{
 "cells": [
  {
   "cell_type": "markdown",
   "metadata": {},
   "source": [
    "# Atmospheric pressure correction\n",
    "\n",
    "This notebook uses example data to generate an atmospheric correction file.\n",
    "Before using the notebook, create the -raw.cdf of the instrument data. "
   ]
  },
  {
   "cell_type": "code",
   "execution_count": 3,
   "metadata": {},
   "outputs": [],
   "source": [
    "import xarray as xr\n",
    "import pandas as pd\n",
    "import numpy as np\n",
    "import glob\n",
    "\n",
    "met_dir = 'F:/crs/proj/2025_NOPP_comparison/helene_water_level/DesignSafe/'\n",
    "met_file = 'CO-OPS_8727520_met.csv' # Cedar Key"
   ]
  },
  {
   "cell_type": "markdown",
   "metadata": {},
   "source": [
    "## Read atmospheric pressure file"
   ]
  },
  {
   "cell_type": "code",
   "execution_count": 2,
   "metadata": {},
   "outputs": [
    {
     "name": "stdout",
     "output_type": "stream",
     "text": [
      "          BP                time\n",
      "0     10.115 2024-09-24 00:00:00\n",
      "1     10.115 2024-09-24 00:06:00\n",
      "2     10.115 2024-09-24 00:12:00\n",
      "3     10.115 2024-09-24 00:18:00\n",
      "4     10.116 2024-09-24 00:24:00\n",
      "...      ...                 ...\n",
      "1675  10.124 2024-09-30 23:30:00\n",
      "1676  10.123 2024-09-30 23:36:00\n",
      "1677  10.124 2024-09-30 23:42:00\n",
      "1678  10.124 2024-09-30 23:48:00\n",
      "1679  10.125 2024-09-30 23:54:00\n",
      "\n",
      "[1680 rows x 2 columns]\n"
     ]
    }
   ],
   "source": [
    "def read_met_data(filename):\n",
    "    ''' \n",
    "    Read the NOS met data...keep pressure only\n",
    "    Return an pandas dataframe\n",
    "    \n",
    "    First two lines of the .csv file look like this:\n",
    "    \"Date\",\"Time (GMT)\",\"Wind Speed (m/s)\",\"Wind Dir (deg)\",\"Wind Gust (m/s)\",\"Air Temp (°C)\",\"Baro (mb)\",\"Humidity (%)\",\"Visibility (km)\"\n",
    "    \"2024/09/24\",\"00:00\",\"1.8\",\"315\",\"3.2\",\"28.8\",\"1011.5\",\"-\",\"-\"\n",
    "    '''\n",
    "    \n",
    "    df = pd.read_csv(filename)\n",
    "    # Combine the 'Date' and 'Time (GMT)' columns into a single 'time' column\n",
    "    df['time'] = pd.to_datetime(df['Date'] + ' ' + df['Time (GMT)'])    \n",
    "    # Drop the original 'Date' and 'Time (GMT)' columns\n",
    "    df.drop(columns=[\"Date\", \"Time (GMT)\",\"Wind Speed (m/s)\",\"Wind Dir (deg)\",\"Wind Gust (m/s)\",\"Air Temp (°C)\",\"Humidity (%)\",\"Visibility (km)\"], inplace=True)\n",
    "    # Rename the \"Baro (mb)\" column to \"BP\"\n",
    "    df.rename(columns={'Baro (mb)': 'BP'}, inplace=True)\n",
    "    return df\n",
    "\n",
    "# Read the NOS .cdf file and create an xarray dataset\n",
    "cedar_key_bp = read_met_data(met_dir + met_file )\n",
    "\n",
    "# convert our atmos data (in millibars) to decibars\n",
    "cedar_key_bp['BP'] = cedar_key_bp['BP']/100 \n",
    "print( cedar_key_bp )"
   ]
  }
 ],
 "metadata": {
  "kernelspec": {
   "display_name": "Python 3 (ipykernel)",
   "language": "python",
   "name": "python3"
  },
  "language_info": {
   "codemirror_mode": {
    "name": "ipython",
    "version": 3
   },
   "file_extension": ".py",
   "mimetype": "text/x-python",
   "name": "python",
   "nbconvert_exporter": "python",
   "pygments_lexer": "ipython3",
   "version": "3.10.16"
  }
 },
 "nbformat": 4,
 "nbformat_minor": 4
}
