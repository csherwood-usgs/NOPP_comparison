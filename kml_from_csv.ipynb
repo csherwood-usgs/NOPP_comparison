{
 "cells": [
  {
   "cell_type": "code",
   "execution_count": 11,
   "id": "dcccf88d-db34-4e8d-b46c-f018c245631b",
   "metadata": {
    "scrolled": true
   },
   "outputs": [],
   "source": [
    "# Convert columns in .csv file to .kml file for use in Google Earth\n",
    "\n",
    "import pandas as pd\n",
    "from xml.etree.ElementTree import Element, SubElement, tostring, ElementTree\n",
    "\n",
    "def create_kml(csv_file, kml_file):\n",
    "    df = pd.read_csv(csv_file)\n",
    "    \n",
    "    # Create KML root\n",
    "    kml = Element(\"kml\", xmlns=\"http://www.opengis.net/kml/2.2\")\n",
    "    document = SubElement(kml, \"Document\")\n",
    "    \n",
    "    for _, row in df.iterrows():\n",
    "        placemark = SubElement(document, \"Placemark\")\n",
    "        name = SubElement(placemark, \"name\")\n",
    "        name.text = str(row[\"name\"])  # Ensure name is string\n",
    "        \n",
    "        point = SubElement(placemark, \"Point\")\n",
    "        coordinates = SubElement(point, \"coordinates\")\n",
    "        coordinates.text = f\"{row['longitude']},{row['latitude']},0\"\n",
    "    \n",
    "    # Write to KML file\n",
    "    tree = ElementTree(kml)\n",
    "    tree.write(kml_file, encoding=\"utf-8\", xml_declaration=True)\n",
    "    print(f\"KML file saved as {kml_file}\")\n",
    "\n",
    "import pandas as pd\n",
    "from xml.etree.ElementTree import Element, SubElement, ElementTree\n",
    "\n",
    "def elevation_to_kml_color(elev_m, min_elev, max_elev):\n",
    "    \"\"\"\n",
    "    Converts elevation to a KML-compatible color gradient from yellow to red.\n",
    "    Colors are in KML's AABBGGRR format.\n",
    "    \"\"\"\n",
    "    if pd.isna(elev_m):  # Default gray if no elevation\n",
    "        return \"ff888888\"\n",
    "\n",
    "    # Normalize elevation (0 to 1)\n",
    "    norm = (elev_m - min_elev) / (max_elev - min_elev) if max_elev > min_elev else 0.5\n",
    "\n",
    "    # Start with yellow (R=255, G=255), go to red (R=255, G=0)\n",
    "    red = 255\n",
    "    green = int(255 * (1 - norm))  # from 255 → 0\n",
    "    blue = 0\n",
    "\n",
    "    return f\"ff{blue:02x}{green:02x}{red:02x}\"  # KML format: AABBGGRR\n",
    "\n",
    "def elevation_to_kml_color(elev_m, min_elev, max_elev):\n",
    "    \"\"\"\n",
    "    Converts elevation to a KML-compatible color gradient (Blue → Green → Red).\n",
    "    Colors are in KML's AABBGGRR format.\n",
    "    \"\"\"\n",
    "    if pd.isna(elev_m):  # Default gray if no elevation\n",
    "        return \"ff888888\"\n",
    "\n",
    "    # Normalize elevation (0 to 1)\n",
    "    norm = (elev_m - min_elev) / (max_elev - min_elev) if max_elev > min_elev else 0.5\n",
    "\n",
    "    # Define color gradient from blue (low) → green → red (high)\n",
    "    if norm < 0.5:\n",
    "        blue = int(255 * (1 - 2 * norm))\n",
    "        green = int(255 * (2 * norm))\n",
    "        red = 0\n",
    "    else:\n",
    "        blue = 0\n",
    "        green = int(255 * (2 * (1 - norm)))\n",
    "        red = int(255 * (2 * (norm - 0.5)))\n",
    "\n",
    "    return f\"ff{blue:02x}{green:02x}{red:02x}\"  # KML format (AABBGGRR)\n",
    "\n",
    "def create_HWM_kml(csv_file, kml_file):\n",
    "    df = pd.read_csv(csv_file)\n",
    "\n",
    "    # Check if required columns exist\n",
    "    required_columns = {\"site_no\", \"longitude_dd\", \"latitude_dd\", \"elev_ft\"}\n",
    "    if not required_columns.issubset(df.columns):\n",
    "        raise KeyError(f\"Missing required columns: {required_columns - set(df.columns)}\")\n",
    "\n",
    "    # Convert elevation from feet to meters\n",
    "    df[\"elev_m\"] = df[\"elev_ft\"] * 0.3048\n",
    "\n",
    "    # Determine min/max elevation for color scaling\n",
    "    min_elev, max_elev = df[\"elev_m\"].min(), df[\"elev_m\"].max()\n",
    "\n",
    "    # Create KML root\n",
    "    kml = Element(\"kml\", xmlns=\"http://www.opengis.net/kml/2.2\")\n",
    "    document = SubElement(kml, \"Document\")\n",
    "\n",
    "    for _, row in df.iterrows():\n",
    "        placemark = SubElement(document, \"Placemark\")\n",
    "\n",
    "        # Use site number and elevation in name\n",
    "        name = SubElement(placemark, \"name\")\n",
    "        name.text = f\"{row['site_no']} (Elev: {row['elev_m']:.2f}m)\"\n",
    "\n",
    "        # Define colored style based on elevation\n",
    "        style = SubElement(placemark, \"Style\")\n",
    "        icon_style = SubElement(style, \"IconStyle\")\n",
    "        color = SubElement(icon_style, \"color\")\n",
    "        color.text = elevation_to_kml_color(row[\"elev_m\"], min_elev, max_elev)\n",
    "\n",
    "        # Set balloon icon instead of pushpin\n",
    "        icon = SubElement(icon_style, \"Icon\")\n",
    "        icon_href = SubElement(icon, \"href\")\n",
    "        icon_href.text = \"http://maps.google.com/mapfiles/kml/paddle/blu-blank.png\"  # Balloon icon\n",
    "\n",
    "        # Balloon-style description\n",
    "        balloon_style = SubElement(style, \"BalloonStyle\")\n",
    "        text = SubElement(balloon_style, \"text\")\n",
    "        text.text = f\"<![CDATA[<b>Site:</b> {row['site_no']}<br><b>Elevation:</b> {row['elev_m']:.2f}m]]>\"\n",
    "\n",
    "        # Define coordinates\n",
    "        point = SubElement(placemark, \"Point\")\n",
    "        coordinates = SubElement(point, \"coordinates\")\n",
    "        coordinates.text = f\"{row['longitude_dd']},{row['latitude_dd']},0\"\n",
    "\n",
    "    # Write to KML file\n",
    "    tree = ElementTree(kml)\n",
    "    tree.write(kml_file, encoding=\"utf-8\", xml_declaration=True)\n",
    "    print(f\"KML file saved as {kml_file}\")\n"
   ]
  },
  {
   "cell_type": "code",
   "execution_count": 13,
   "id": "59973454-e66c-42d1-b111-82c2c86ddbb4",
   "metadata": {},
   "outputs": [
    {
     "name": "stdout",
     "output_type": "stream",
     "text": [
      "KML file saved as F:/crs/proj/2025_NOPP_comparison/helene_water_level/stations_v2.kml\n"
     ]
    }
   ],
   "source": [
    "# Station locations with regular pushpins  \n",
    "data_dir = 'F:/crs/proj/2025_NOPP_comparison/helene_water_level/'\n",
    "csv_file = \"all_sites_for_KML.csv\"  # Update with the actual path\n",
    "kml_file = \"stations_v2.kml\"\n",
    "create_kml(data_dir+csv_file, data_dir+kml_file)"
   ]
  },
  {
   "cell_type": "code",
   "execution_count": 12,
   "id": "b66ab318-bb77-4c76-855d-5779a543f3ab",
   "metadata": {},
   "outputs": [
    {
     "name": "stdout",
     "output_type": "stream",
     "text": [
      "KML file saved as F:/crs/proj/2025_NOPP_comparison/helene_water_level/hwm.kml\n"
     ]
    }
   ],
   "source": [
    "# Wave stations with colored balloons\n",
    "hwm_csv_file = \"FilteredHWMs_Helene.csv\"\n",
    "hwm_kml_file = \"hwm.kml\"\n",
    "create_HWM_kml(data_dir+hwm_csv_file, data_dir+hwm_kml_file)"
   ]
  }
 ],
 "metadata": {
  "kernelspec": {
   "display_name": "Python 3 (ipykernel)",
   "language": "python",
   "name": "python3"
  },
  "language_info": {
   "codemirror_mode": {
    "name": "ipython",
    "version": 3
   },
   "file_extension": ".py",
   "mimetype": "text/x-python",
   "name": "python",
   "nbconvert_exporter": "python",
   "pygments_lexer": "ipython3",
   "version": "3.10.16"
  }
 },
 "nbformat": 4,
 "nbformat_minor": 5
}
